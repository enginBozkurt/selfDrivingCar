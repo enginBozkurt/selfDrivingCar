{
  "nbformat": 4,
  "nbformat_minor": 0,
  "metadata": {
    "accelerator": "GPU",
    "colab": {
      "name": "NVIDIA_Model.ipynb",
      "provenance": []
    },
    "kernelspec": {
      "display_name": "Python 3",
      "name": "python3"
    },
    "language_info": {
      "name": "python"
    }
  },
  "cells": [
    {
      "cell_type": "code",
      "metadata": {
        "colab": {
          "base_uri": "https://localhost:8080/"
        },
        "id": "BKnMAKV2juCn",
        "outputId": "6e405f7b-56c2-45d9-bbe3-257c81f6d892"
      },
      "source": [
        "#!git clone https://github.com/tbchhetri/DrivingData #use ! to invoke bash commands to use commands like ls cd git clone, these can just be used as a command line"
      ],
      "execution_count": null,
      "outputs": [
        {
          "output_type": "stream",
          "text": [
            "fatal: destination path 'DrivingData' already exists and is not an empty directory.\n"
          ],
          "name": "stdout"
        }
      ]
    },
    {
      "cell_type": "code",
      "metadata": {
        "colab": {
          "base_uri": "https://localhost:8080/"
        },
        "id": "LfxvLfwutcaw",
        "outputId": "26bc021f-c1e8-43f0-acea-b51b4537d9c8"
      },
      "source": [
        "from google.colab import drive #details: https://youtu.be/InZ16tcM9Pc, https://youtu.be/58t0PFIWR9Y\n",
        "drive.mount('/content/drive')"
      ],
      "execution_count": null,
      "outputs": [
        {
          "output_type": "stream",
          "text": [
            "Mounted at /content/drive\n"
          ],
          "name": "stdout"
        }
      ]
    },
    {
      "cell_type": "code",
      "metadata": {
        "id": "tgWQ03ADJdGV"
      },
      "source": [
        "import os\n",
        "import numpy as np\n",
        "import matplotlib.pyplot as plt\n",
        "import matplotlib.image as mpimg\n",
        "import keras\n",
        "from keras.models import Sequential\n",
        "from keras.optimizers import Adam\n",
        "from keras.layers import Convolution2D, MaxPooling2D, Dropout, Flatten, Dense\n",
        "from sklearn.utils import shuffle\n",
        "from sklearn.model_selection import train_test_split\n",
        "from imgaug import augmenters as iaa #https://imgaug.readthedocs.io/en/latest/\n",
        "import cv2\n",
        "import pandas as pd\n",
        "import ntpath #to cut the path  \n",
        "import random"
      ],
      "execution_count": null,
      "outputs": []
    },
    {
      "cell_type": "code",
      "metadata": {
        "colab": {
          "base_uri": "https://localhost:8080/",
          "height": 204
        },
        "id": "d1ZONeyBKPPK",
        "outputId": "8f4a94cd-205a-44e8-89a5-e394456714c6"
      },
      "source": [
        "#getting the data from the git and save it in a var\n",
        "#gitData = \"DrivingData\"\n",
        "gitData = r'/content/drive/MyDrive/DrivingData'\n",
        "columns = ['center','steering', 'speed'] #inref to the csv file\n",
        "drivingData = pd.read_csv(os.path.join(gitData, 'driving_log.csv'), names = columns)\n",
        "drivingData.head()"
      ],
      "execution_count": null,
      "outputs": [
        {
          "output_type": "execute_result",
          "data": {
            "text/html": [
              "<div>\n",
              "<style scoped>\n",
              "    .dataframe tbody tr th:only-of-type {\n",
              "        vertical-align: middle;\n",
              "    }\n",
              "\n",
              "    .dataframe tbody tr th {\n",
              "        vertical-align: top;\n",
              "    }\n",
              "\n",
              "    .dataframe thead th {\n",
              "        text-align: right;\n",
              "    }\n",
              "</style>\n",
              "<table border=\"1\" class=\"dataframe\">\n",
              "  <thead>\n",
              "    <tr style=\"text-align: right;\">\n",
              "      <th></th>\n",
              "      <th>center</th>\n",
              "      <th>steering</th>\n",
              "      <th>speed</th>\n",
              "    </tr>\n",
              "  </thead>\n",
              "  <tbody>\n",
              "    <tr>\n",
              "      <th>0</th>\n",
              "      <td>/Volumes/MyData/Data/College/Winter20/training...</td>\n",
              "      <td>0.0</td>\n",
              "      <td>0.000077</td>\n",
              "    </tr>\n",
              "    <tr>\n",
              "      <th>1</th>\n",
              "      <td>/Volumes/MyData/Data/College/Winter20/training...</td>\n",
              "      <td>0.0</td>\n",
              "      <td>0.000079</td>\n",
              "    </tr>\n",
              "    <tr>\n",
              "      <th>2</th>\n",
              "      <td>/Volumes/MyData/Data/College/Winter20/training...</td>\n",
              "      <td>0.0</td>\n",
              "      <td>0.000079</td>\n",
              "    </tr>\n",
              "    <tr>\n",
              "      <th>3</th>\n",
              "      <td>/Volumes/MyData/Data/College/Winter20/training...</td>\n",
              "      <td>0.0</td>\n",
              "      <td>0.000079</td>\n",
              "    </tr>\n",
              "    <tr>\n",
              "      <th>4</th>\n",
              "      <td>/Volumes/MyData/Data/College/Winter20/training...</td>\n",
              "      <td>0.0</td>\n",
              "      <td>0.000080</td>\n",
              "    </tr>\n",
              "  </tbody>\n",
              "</table>\n",
              "</div>"
            ],
            "text/plain": [
              "                                              center  steering     speed\n",
              "0  /Volumes/MyData/Data/College/Winter20/training...       0.0  0.000077\n",
              "1  /Volumes/MyData/Data/College/Winter20/training...       0.0  0.000079\n",
              "2  /Volumes/MyData/Data/College/Winter20/training...       0.0  0.000079\n",
              "3  /Volumes/MyData/Data/College/Winter20/training...       0.0  0.000079\n",
              "4  /Volumes/MyData/Data/College/Winter20/training...       0.0  0.000080"
            ]
          },
          "metadata": {
            "tags": []
          },
          "execution_count": 3
        }
      ]
    },
    {
      "cell_type": "code",
      "metadata": {
        "id": "NxOskJ1SyIjw"
      },
      "source": [
        "#remove the startin path of images\n",
        "def getTail(imgPath):\n",
        "  _,tail = ntpath.split(imgPath)\n",
        "  return tail \n",
        "\n",
        "#moving forward we will only be using center data as our camera will only be placed at the center of the car\n",
        "drivingData['center'] = drivingData['center'].apply(getTail) #same can be done for left and right\n",
        "#drivingData.head()"
      ],
      "execution_count": null,
      "outputs": []
    },
    {
      "cell_type": "code",
      "metadata": {
        "id": "2GA017FR99mi"
      },
      "source": [
        "#getting rid of excess data so that our model will not be biased\n",
        "numBins = 25\n",
        "deleteMe = []\n",
        "binElemets = 400 #so only 400 elements per bin\n",
        "_, bins = np.histogram(drivingData['steering'], numBins)\n",
        "\n",
        "for binCounter in range (numBins):\n",
        "  tempList = [] #get the list ready for another bin\n",
        "  for steeringIndex in range(len(drivingData['steering'])):\n",
        "    if drivingData['steering'][steeringIndex] >= bins[binCounter] and drivingData['steering'][steeringIndex] <= bins[binCounter+1]: #making sure the steering falls in the bins\n",
        "      tempList.append(steeringIndex)\n",
        "  tempList = shuffle(tempList)\n",
        "  tempList = tempList[binElemets:]\n",
        "  deleteMe.extend(tempList) #deleteMe will now contain all the excess steering data\n",
        "\n",
        "drivingData.drop(drivingData.index[deleteMe], inplace=True) #data is removed here, true inplace removes the data directly from the drivingData without returning anything"
      ],
      "execution_count": null,
      "outputs": []
    },
    {
      "cell_type": "code",
      "metadata": {
        "id": "y1LuVsFvD64_"
      },
      "source": [
        "#getting the training data and labels\n",
        "def getReadyImg(gitData): #returns the center image and it's corresponding steering angle\n",
        "  imgPath = []\n",
        "  steering  = []\n",
        "\n",
        "  for row in range (len(drivingData)):\n",
        "    drivingDataRow = drivingData.iloc[row]\n",
        "    imgPath.append(os.path.join(gitData, drivingDataRow[0].strip())) #center = drivingDataRow[0]\n",
        "    steering.append(float(drivingDataRow[1])) #cuz steering is at index 1\n",
        "\n",
        "  return imgPath, steering\n",
        "imgPath, steeringDegree = getReadyImg(gitData + '/IMG')\n",
        "\n",
        "X_train, X_val, y_train, y_val = train_test_split(imgPath, steeringDegree, test_size = 0.2, random_state = 6) #20%of data will be x_val and y_val"
      ],
      "execution_count": null,
      "outputs": []
    },
    {
      "cell_type": "code",
      "metadata": {
        "id": "NkwXRC6AUzeI"
      },
      "source": [
        "# AUGMENTATION TECHNIQUES\n",
        "#1. Zoom\n",
        "def zoom(img):\n",
        "  zoom = iaa.Affine(scale=(1,1.3)) #selects a random percent of zoom from 1-30%\n",
        "  img = zoom.augment_image(img)\n",
        "  return img\n",
        "\n",
        "#2. Panning\n",
        "#def panIt(img):\n",
        "#  pan = iaa.Affine(translate_percent={\"x\": (-0.1, 0.1), \"y\" : (-0.1, 0.1)}) #just the degree of panning, it is working randomly\n",
        "#  img = pan.augment_image(img)\n",
        "#  return img\n",
        "\n",
        "#3. Brightness\n",
        "def brighten (img):\n",
        "  brightness = iaa.Multiply((0.2,1.2)) #makes img darker if less than 1, it is working randomly\n",
        "  img = brightness.augment_image(img)\n",
        "  return img\n",
        "\n",
        "#4. Flip\n",
        "def flip (img, steeringDegree):\n",
        "  flipped = cv2.flip(img, 1) #1-horizontal flip, -1-vertical flip\n",
        "  steeringDegree = -steeringDegree\n",
        "  return flipped, steeringDegree\n",
        "\n",
        "#COMBINING AUGMENTATIONS\n",
        "def randomAugmentation (img, steeringDegree):\n",
        "  img = mpimg.imread(img) #reading the image path\n",
        "\n",
        "  if (np.random.rand() < 0.5): #this will only run almost half of the time, the rand function only outputs no from 0-1\n",
        "    img = zoom(img)\n",
        "  #if (np.random.rand() < 0.5):\n",
        "  #  img = panIt(img)\n",
        "  if (np.random.rand() < 0.5):\n",
        "    img = brighten(img)\n",
        "  if (np.random.rand() < 0.5):\n",
        "    img, steeringDegree = flip(img, steeringDegree)\n",
        "  \n",
        "  return img, steeringDegree"
      ],
      "execution_count": null,
      "outputs": []
    },
    {
      "cell_type": "code",
      "metadata": {
        "id": "5jc-crE2hHHW"
      },
      "source": [
        "#PREPROCESSING\n",
        "def preprocess(img):\n",
        "  #img = mpimg.imread(img)\n",
        "  img = img[60:135,:,:] #we are cropping the height of the image since other than 60-135 we dont need those infos\n",
        "  img = cv2.cvtColor(img, cv2.COLOR_RGB2YUV) #Y-luminosity, and UV. This is recommended by NVIDIA while running their Neural Network\n",
        "  img = cv2.GaussianBlur(img, (3,3), 0) #(3,3) is the kernal size for the blur, this is done to reduce the noise in image\n",
        "  img = cv2.resize(img, (200,66)) #this size is also recommended by NVIDIA\n",
        "  img = img/255\n",
        "  return img"
      ],
      "execution_count": null,
      "outputs": []
    },
    {
      "cell_type": "code",
      "metadata": {
        "id": "ii2jUqZsk3Zr"
      },
      "source": [
        "def augmenterCoroutein (imgPath, steeringDegree, batchSize, isTraining):#this is a coroutein, when this is called again the values don't reinitialize but gets initialized to their old value\n",
        "  while True: #coroutines can pause and resume thier functions\n",
        "    imgBatch = []\n",
        "    steeringBatch = []\n",
        "\n",
        "    for counter in range (batchSize):\n",
        "      randomIndex = random.randint(0, len(imgPath) - 1)\n",
        "\n",
        "      if isTraining:\n",
        "        img, steering = randomAugmentation(imgPath[randomIndex], steeringDegree[randomIndex])\n",
        "      else:\n",
        "        img = mpimg.imread(imgPath[randomIndex])\n",
        "        steering = steeringDegree[randomIndex]\n",
        "      \n",
        "      img = preprocess(img)\n",
        "      imgBatch.append(img)\n",
        "      steeringBatch.append(steering)\n",
        "    yield (np.asarray(imgBatch), np.asarray(steeringBatch))"
      ],
      "execution_count": null,
      "outputs": []
    },
    {
      "cell_type": "code",
      "metadata": {
        "id": "bbYAsmNx-Rz7"
      },
      "source": [
        "#following the NVIDIA Model, more details: https://developer.nvidia.com/blog/deep-learning-self-driving-cars/\n",
        "def nvidiaModel():\n",
        "  model = Sequential()\n",
        "  model.add(Convolution2D(24, (5, 5), strides=(2,2), input_shape=(66, 200, 3), activation='elu'))\n",
        "  model.add(Convolution2D(36, (5, 5), strides=(2,2), activation='elu'))\n",
        "  model.add(Convolution2D(48, (5, 5), strides=(2,2), activation='elu'))\n",
        "  model.add(Convolution2D(64, (3, 3), activation='elu'))\n",
        "  \n",
        "  model.add(Convolution2D(64, (3, 3), activation='elu'))\n",
        "  #model.add(Dropout(0.5))\n",
        "  \n",
        "  model.add(Flatten())\n",
        "  \n",
        "  model.add(Dense(100, activation = 'elu'))\n",
        "  #model.add(Dropout(0.5))\n",
        "  \n",
        "  model.add(Dense(50, activation = 'elu'))\n",
        "  #model.add(Dropout(0.5))\n",
        "  \n",
        "  model.add(Dense(10, activation = 'elu'))\n",
        "  #model.add(Dropout(0.5))\n",
        "\n",
        "  model.add(Dense(1))\n",
        "  \n",
        "  model.compile(loss='mse', optimizer = Adam(lr=1e-4))\n",
        "  return model"
      ],
      "execution_count": null,
      "outputs": []
    },
    {
      "cell_type": "code",
      "metadata": {
        "colab": {
          "base_uri": "https://localhost:8080/"
        },
        "id": "kvo9O_A9_Yrw",
        "outputId": "a6142dc0-fe7f-491f-cadb-e031089d986d"
      },
      "source": [
        "model = nvidiaModel()   \n",
        "print(model.summary())"
      ],
      "execution_count": null,
      "outputs": [
        {
          "output_type": "stream",
          "text": [
            "Model: \"sequential\"\n",
            "_________________________________________________________________\n",
            "Layer (type)                 Output Shape              Param #   \n",
            "=================================================================\n",
            "conv2d (Conv2D)              (None, 31, 98, 24)        1824      \n",
            "_________________________________________________________________\n",
            "conv2d_1 (Conv2D)            (None, 14, 47, 36)        21636     \n",
            "_________________________________________________________________\n",
            "conv2d_2 (Conv2D)            (None, 5, 22, 48)         43248     \n",
            "_________________________________________________________________\n",
            "conv2d_3 (Conv2D)            (None, 3, 20, 64)         27712     \n",
            "_________________________________________________________________\n",
            "conv2d_4 (Conv2D)            (None, 1, 18, 64)         36928     \n",
            "_________________________________________________________________\n",
            "flatten (Flatten)            (None, 1152)              0         \n",
            "_________________________________________________________________\n",
            "dense (Dense)                (None, 100)               115300    \n",
            "_________________________________________________________________\n",
            "dense_1 (Dense)              (None, 50)                5050      \n",
            "_________________________________________________________________\n",
            "dense_2 (Dense)              (None, 10)                510       \n",
            "_________________________________________________________________\n",
            "dense_3 (Dense)              (None, 1)                 11        \n",
            "=================================================================\n",
            "Total params: 252,219\n",
            "Trainable params: 252,219\n",
            "Non-trainable params: 0\n",
            "_________________________________________________________________\n",
            "None\n"
          ],
          "name": "stdout"
        }
      ]
    },
    {
      "cell_type": "code",
      "metadata": {
        "colab": {
          "base_uri": "https://localhost:8080/"
        },
        "id": "zKTRwqXQ_gvR",
        "outputId": "27e9efb6-12ac-4e0b-ddf3-c33bd9979977"
      },
      "source": [
        "history = model.fit_generator(augmenterCoroutein(X_train, y_train, 100, 1), steps_per_epoch = 300, epochs = 10, \n",
        "                              validation_data = augmenterCoroutein(X_val, y_val, 100, 0), validation_steps = 200, verbose = 1, shuffle = 1)"
      ],
      "execution_count": null,
      "outputs": [
        {
          "output_type": "stream",
          "text": [
            "/usr/local/lib/python3.7/dist-packages/tensorflow/python/keras/engine/training.py:1844: UserWarning: `Model.fit_generator` is deprecated and will be removed in a future version. Please use `Model.fit`, which supports generators.\n",
            "  warnings.warn('`Model.fit_generator` is deprecated and '\n"
          ],
          "name": "stderr"
        },
        {
          "output_type": "stream",
          "text": [
            "Epoch 1/10\n",
            "300/300 [==============================] - 638s 2s/step - loss: 0.1246 - val_loss: 0.1104\n",
            "Epoch 2/10\n",
            "300/300 [==============================] - 217s 726ms/step - loss: 0.0997 - val_loss: 0.0766\n",
            "Epoch 3/10\n",
            "300/300 [==============================] - 217s 725ms/step - loss: 0.0861 - val_loss: 0.0564\n",
            "Epoch 4/10\n",
            "300/300 [==============================] - 214s 717ms/step - loss: 0.0762 - val_loss: 0.0526\n",
            "Epoch 5/10\n",
            "300/300 [==============================] - 219s 733ms/step - loss: 0.0672 - val_loss: 0.0470\n",
            "Epoch 6/10\n",
            "300/300 [==============================] - 222s 742ms/step - loss: 0.0596 - val_loss: 0.0437\n",
            "Epoch 7/10\n",
            "300/300 [==============================] - 221s 739ms/step - loss: 0.0594 - val_loss: 0.0538\n",
            "Epoch 8/10\n",
            "300/300 [==============================] - 220s 737ms/step - loss: 0.0530 - val_loss: 0.0396\n",
            "Epoch 9/10\n",
            "300/300 [==============================] - 219s 731ms/step - loss: 0.0489 - val_loss: 0.0413\n",
            "Epoch 10/10\n",
            "300/300 [==============================] - 216s 722ms/step - loss: 0.0460 - val_loss: 0.0456\n"
          ],
          "name": "stdout"
        }
      ]
    },
    {
      "cell_type": "code",
      "metadata": {
        "id": "LSrryJyp_q5B",
        "colab": {
          "base_uri": "https://localhost:8080/",
          "height": 312
        },
        "outputId": "217c3186-d84e-4af7-f6f3-010f0c8923e1"
      },
      "source": [
        "plt.plot(history.history['loss'])\n",
        "plt.plot(history.history['val_loss'])\n",
        "plt.title('Loss')\n",
        "plt.xlabel('epoch')"
      ],
      "execution_count": null,
      "outputs": [
        {
          "output_type": "execute_result",
          "data": {
            "text/plain": [
              "Text(0.5, 0, 'epoch')"
            ]
          },
          "metadata": {
            "tags": []
          },
          "execution_count": 13
        },
        {
          "output_type": "display_data",
          "data": {
            "image/png": "[encoded data removed]",
            "text/plain": [
              "<Figure size 432x288 with 1 Axes>"
            ]
          },
          "metadata": {
            "tags": [],
            "needs_background": "light"
          }
        }
      ]
    },
    {
      "cell_type": "code",
      "metadata": {
        "id": "NcjcbAXMPDYH"
      },
      "source": [
        ""
      ],
      "execution_count": null,
      "outputs": []
    }
  ]
}